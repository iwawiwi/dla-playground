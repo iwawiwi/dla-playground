{
 "cells": [
  {
   "cell_type": "markdown",
   "metadata": {},
   "source": [
    "# Image Classification for `Flower102` dataset using Deep Learning Architecture"
   ]
  },
  {
   "cell_type": "markdown",
   "metadata": {},
   "source": [
    "Import `Flowers102` dataset. This notebook created based on PyTorch 1.11 and Torchvision 0.12."
   ]
  },
  {
   "cell_type": "code",
   "execution_count": null,
   "metadata": {},
   "outputs": [],
   "source": [
    "import torch\n",
    "import torchvision\n",
    "\n",
    "# add syspath\n",
    "import sys\n",
    "sys.path.append(\"../src\")\n",
    "\n",
    "print(torch.__version__)\n",
    "print(torchvision.__version__)"
   ]
  },
  {
   "cell_type": "code",
   "execution_count": null,
   "metadata": {},
   "outputs": [],
   "source": [
    "from torchvision.datasets.flowers102 import Flowers102\n",
    "PATH = \"../data\""
   ]
  },
  {
   "cell_type": "markdown",
   "metadata": {},
   "source": [
    "Download and load the dataset based on respective partition (train, val, test)"
   ]
  },
  {
   "cell_type": "code",
   "execution_count": null,
   "metadata": {},
   "outputs": [],
   "source": [
    "from torchvision import transforms\n",
    "\n",
    "# imagenet mean and std\n",
    "mean = [0.485, 0.456, 0.406]\n",
    "std = [0.229, 0.224, 0.225]\n",
    "\n",
    "# compose toTensor() and Normalize(mean, std)\n",
    "transform_fn = transforms.Compose([\n",
    "    transforms.ToTensor(),\n",
    "    transforms.Resize((227, 227)),             # resize to 227x227 for AlexNet  \n",
    "    transforms.Normalize(mean, std),\n",
    "])"
   ]
  },
  {
   "cell_type": "markdown",
   "metadata": {},
   "source": [
    "Define data transformation"
   ]
  },
  {
   "cell_type": "code",
   "execution_count": null,
   "metadata": {},
   "outputs": [],
   "source": [
    "trainset = Flowers102(PATH, split=\"train\", download=True, transform=transform_fn)\n",
    "valset = Flowers102(PATH, split=\"val\", download=True, transform=transform_fn)\n",
    "testset = Flowers102(PATH, split=\"test\", download=True, transform=transform_fn)"
   ]
  },
  {
   "cell_type": "markdown",
   "metadata": {},
   "source": [
    "View sample image from dataset"
   ]
  },
  {
   "cell_type": "code",
   "execution_count": null,
   "metadata": {},
   "outputs": [],
   "source": [
    "import random\n",
    "\n",
    "# random number\n",
    "rand_idx = random.randint(0, len(trainset))\n",
    "# get random sample from trainset\n",
    "sample = trainset[rand_idx]"
   ]
  },
  {
   "cell_type": "code",
   "execution_count": null,
   "metadata": {},
   "outputs": [],
   "source": [
    "# plot sample\n",
    "import matplotlib.pyplot as plt\n",
    "\n",
    "# the image is a tensor of shape (3, 224, 224) permute to (224, 224, 3)\n",
    "plt.imshow(sample[0].permute(1, 2, 0))"
   ]
  },
  {
   "cell_type": "code",
   "execution_count": null,
   "metadata": {},
   "outputs": [],
   "source": [
    "from scipy.io import loadmat\n",
    "\n",
    "mat = loadmat(PATH + \"/flowers-102/imagelabels.mat\", squeeze_me=True)\n",
    "print(max(mat[\"labels\"]), min(mat[\"labels\"])) # label range: 1-102"
   ]
  },
  {
   "cell_type": "code",
   "execution_count": null,
   "metadata": {},
   "outputs": [],
   "source": [
    "LABEL_NAMES = [\n",
    "    \"pink primrose\", \"hard-leaved pocket orchid\", \"canterbury bells\",\n",
    "    \"sweet pea\", \"english marigold\", \"tiger lily\", \"moon orchid\",\n",
    "    \"bird of paradise\", \"monkshood\", \"globe thistle\", \"snapdragon\",\n",
    "    \"colt's foot\", \"king protea\", \"spear thistle\", \"yellow iris\",\n",
    "    \"globe-flower\", \"purple coneflower\", \"peruvian lily\", \"balloon flower\",\n",
    "    \"giant white arum lily\", \"fire lily\", \"pincushion flower\", \"fritillary\",\n",
    "    \"red ginger\", \"grape hyacinth\", \"corn poppy\", \"prince of wales feathers\",\n",
    "    \"stemless gentian\", \"artichoke\", \"sweet william\", \"carnation\",\n",
    "    \"garden phlox\", \"love in the mist\", \"mexican aster\", \"alpine sea holly\",\n",
    "    \"ruby-lipped cattleya\", \"cape flower\", \"great masterwort\", \"siam tulip\",\n",
    "    \"lenten rose\", \"barbeton daisy\", \"daffodil\", \"sword lily\", \"poinsettia\",\n",
    "    \"bolero deep blue\", \"wallflower\", \"marigold\", \"buttercup\", \"oxeye daisy\",\n",
    "    \"common dandelion\", \"petunia\", \"wild pansy\", \"primula\", \"sunflower\",\n",
    "    \"pelargonium\", \"bishop of llandaff\", \"gaura\", \"geranium\", \"orange dahlia\",\n",
    "    \"pink-yellow dahlia?\", \"cautleya spicata\", \"japanese anemone\",\n",
    "    \"black-eyed susan\", \"silverbush\", \"californian poppy\", \"osteospermum\",\n",
    "    \"spring crocus\", \"bearded iris\", \"windflower\", \"tree poppy\", \"gazania\",\n",
    "    \"azalea\", \"water lily\", \"rose\", \"thorn apple\", \"morning glory\",\n",
    "    \"passion flower\", \"lotus\", \"toad lily\", \"anthurium\", \"frangipani\",\n",
    "    \"clematis\", \"hibiscus\", \"columbine\", \"desert-rose\", \"tree mallow\",\n",
    "    \"magnolia\", \"cyclamen\", \"watercress\", \"canna lily\", \"hippeastrum\",\n",
    "    \"bee balm\", \"ball moss\", \"foxglove\", \"bougainvillea\", \"camellia\", \"mallow\",\n",
    "    \"mexican petunia\", \"bromelia\", \"blanket flower\", \"trumpet creeper\",\n",
    "    \"blackberry lily\"\n",
    "]\n",
    "# show label\n",
    "print(LABEL_NAMES[sample[1]-1])"
   ]
  },
  {
   "cell_type": "markdown",
   "metadata": {},
   "source": [
    "Create dataloader for each dataset partition"
   ]
  },
  {
   "cell_type": "code",
   "execution_count": null,
   "metadata": {},
   "outputs": [],
   "source": [
    "from torch.utils.data import DataLoader\n",
    "\n",
    "batch_size = 32\n",
    "num_workers = 4\n",
    "\n",
    "train_dl = DataLoader(trainset, batch_size=batch_size, shuffle=True, num_workers=num_workers, pin_memory=True)\n",
    "val_dl = DataLoader(valset, batch_size=batch_size, shuffle=False, num_workers=num_workers, pin_memory=True)\n",
    "test_dl = DataLoader(testset, batch_size=batch_size, shuffle=False, num_workers=num_workers, pin_memory=True)"
   ]
  },
  {
   "cell_type": "markdown",
   "metadata": {},
   "source": [
    "Create `AlexNet` model"
   ]
  },
  {
   "cell_type": "code",
   "execution_count": null,
   "metadata": {},
   "outputs": [],
   "source": [
    "from models.components.alex_net import AlexNet\n",
    "\n",
    "model = AlexNet(num_classes=102)\n",
    "print(model)"
   ]
  },
  {
   "cell_type": "markdown",
   "metadata": {},
   "source": [
    "Define loss function and optimizer"
   ]
  },
  {
   "cell_type": "code",
   "execution_count": null,
   "metadata": {},
   "outputs": [],
   "source": [
    "from torch.nn import CrossEntropyLoss\n",
    "from torch.optim import Adam\n",
    "\n",
    "loss = CrossEntropyLoss()\n",
    "optimizer = Adam(model.parameters(), lr=0.1)"
   ]
  },
  {
   "cell_type": "markdown",
   "metadata": {},
   "source": [
    "Train the `model`"
   ]
  },
  {
   "cell_type": "code",
   "execution_count": null,
   "metadata": {},
   "outputs": [],
   "source": [
    "# train for 5 epochs\n",
    "num_epochs = 5\n",
    "\n",
    "for i in range(num_epochs):\n",
    "    running_loss = 0.0\n",
    "    for j, (images, labels) in enumerate(train_dl):\n",
    "        # forward\n",
    "        outputs = model(images)\n",
    "        loss_val = loss(outputs, labels-1)  # labels-1 to convert to 0-based indexing\n",
    "        # backward\n",
    "        optimizer.zero_grad()   # clear gradients\n",
    "        loss_val.backward()     # backpropagation\n",
    "        optimizer.step()        # update weights\n",
    "        # print statistics\n",
    "        running_loss += loss_val.item()\n",
    "        if j % 10 == 9:\n",
    "            print('[%d, %5d] loss: %.3f' %\n",
    "                  (i + 1, j + 1, running_loss / 10))\n",
    "            running_loss = 0.0\n",
    "\n",
    "print('Finished Training')"
   ]
  }
 ],
 "metadata": {
  "interpreter": {
   "hash": "2dd0912a7cefb2d506aeeb16f751d49908d61cb2cdcc882d6a1ed2ecca85104b"
  },
  "kernelspec": {
   "display_name": "Python 3.9.7 ('torchlight')",
   "language": "python",
   "name": "python3"
  },
  "language_info": {
   "codemirror_mode": {
    "name": "ipython",
    "version": 3
   },
   "file_extension": ".py",
   "mimetype": "text/x-python",
   "name": "python",
   "nbconvert_exporter": "python",
   "pygments_lexer": "ipython3",
   "version": "3.9.7"
  }
 },
 "nbformat": 4,
 "nbformat_minor": 2
}
